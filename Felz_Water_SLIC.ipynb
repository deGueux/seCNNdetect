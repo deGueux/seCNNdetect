{
 "cells": [
  {
   "cell_type": "code",
   "execution_count": 14,
   "id": "04d0da8f-638d-46b3-a9b7-94eda15385ee",
   "metadata": {},
   "outputs": [],
   "source": [
    "from itertools import product\n",
    "\n",
    "import numpy as np\n",
    "from shapely.geometry import polygon, box\n",
    "\n",
    "import matplotlib.pyplot as plt\n",
    "from matplotlib.colors import ListedColormap, LinearSegmentedColormap\n",
    "plt.set_cmap('magma'); plt.close()\n",
    "\n",
    "from skimage.measure import regionprops\n",
    "from skimage.feature import canny\n",
    "from skimage.filters import threshold_otsu, sobel\n",
    "from skimage.measure import label\n",
    "from skimage.segmentation import clear_border, felzenszwalb\n",
    "from skimage.color import hed_from_rgb, gray2rgb, label2rgb\n",
    "\n",
    "import secdetect\n",
    "from skimage.segmentation import watershed\n",
    "from skimage.io import imread\n",
    "\n",
    "from tqdm.notebook import tqdm\n",
    "from skimage.segmentation import slic\n",
    "\n"
   ]
  },
  {
   "cell_type": "code",
   "execution_count": 15,
   "id": "9a741e27-558d-403e-8d99-12eaa4cbe368",
   "metadata": {},
   "outputs": [],
   "source": [
    "def no_crop_to_ring(image, cx, cy, radius):\n",
    "    \"\"\"\n",
    "a function to mask the circle found without cropping to that circle\n",
    "    :param image: the input image\n",
    "    :param cx: x coordinate of center circle\n",
    "    :param cy: y coordinate of center circle\n",
    "    :param radius: the radius of the circle\n",
    "    :return:\n",
    "    \"\"\"\n",
    "            # Mask image\n",
    "    h, w = image.shape[:2]  # get height and width of image\n",
    "    Y, X = np.ogrid[:h, :w]  # create ogrid over image\n",
    "    mask = (X - cx)**2 + (Y - cy)**2 > radius**2  # create mask\n",
    "    image[mask] = 0  # apply mask\n",
    "    return image"
   ]
  },
  {
   "cell_type": "code",
   "execution_count": 16,
   "outputs": [],
   "source": [
    "def felz_and_watershed(imagen0, filepath):\n",
    "    \"\"\"\n",
    "Perform felzenszwalb and watershed for instance segmentation and save the segmented image\n",
    "    :param imagen0: the image number\n",
    "    :param filepath: the filepath where the image can be found\n",
    "    \"\"\"\n",
    "    imin = imread(filepath + str(imagen0)+ '.png')\n",
    "    imec = secdetect.enhance_contrast(imin, channel=2, conv_matrix=hed_from_rgb)\n",
    "    imcn = canny(imec, sigma=4, low_threshold=0.10, high_threshold=0.99, use_quantiles=True)\n",
    "    cx, cy, r = secdetect.find_ring(imcn)\n",
    "    \n",
    "\n",
    "    \n",
    "    imcr = no_crop_to_ring(imin, cx=cx, cy=cy, radius=r)\n",
    "    imeccr = no_crop_to_ring(imec, cx=cx, cy=cy, radius=r)\n",
    "\n",
    "    # Mask with Felzenszwalb segmentation\n",
    "    imfz = felzenszwalb(imcr, scale=750, sigma=1, min_size=500, multichannel=True)\n",
    "    imcb = clear_border(imfz, buffer_size=100)\n",
    "    mask = imcb > 0\n",
    "\n",
    "    masked_grey = np.where(mask, imeccr, 0)\n",
    "\n",
    "#    Make segmentation using edge-detection and watershed.\n",
    "    edges = sobel(masked_grey)\n",
    "    markers = np.zeros_like(masked_grey)\n",
    "    fg, bg = 1, 2\n",
    "    thresh = threshold_otsu(masked_grey)\n",
    "    markers[masked_grey < thresh] = bg\n",
    "    markers[masked_grey > thresh] = fg\n",
    "\n",
    "\n",
    "    # Run watershedding\n",
    "    ws = watershed(edges, markers, connectivity = 1, compactness = 10, watershed_line = False)\n",
    "    labels = label(ws == fg)\n",
    "\n",
    "    # Remove small areas\n",
    "    labelled = labels.copy()\n",
    "    (unique, counts) = np.unique(labelled, return_counts = True)\n",
    "    to_remove = unique[counts < 500]\n",
    "\n",
    "    for value in to_remove:\n",
    "       labelled[labelled == value] = 0\n",
    "    \n",
    "    plt.imsave(str(imagen0)+'.png', labelled, cmap = 'gray')"
   ],
   "metadata": {
    "collapsed": false,
    "pycharm": {
     "name": "#%%\n"
    }
   }
  },
  {
   "cell_type": "code",
   "execution_count": 19,
   "outputs": [],
   "source": [
    "def felz_and_SLIC(i, filepath):\n",
    "    \"\"\"\n",
    "Perform felzenszwalb and k-means clustering (SLIC specifically) for instance segmentation and save the segmented image\n",
    "    :param imagen0: the image number\n",
    "    :param filepath: the filepath where the image can be found\n",
    "    \"\"\"\n",
    "\n",
    "\n",
    "    imin = imread(filepath+ str(i)+ '.png')\n",
    "    imec = secdetect.enhance_contrast(imin, channel=2, conv_matrix=hed_from_rgb)\n",
    "    imcn = canny(imec, sigma=4, low_threshold=0.10, high_threshold=0.99, use_quantiles=True)\n",
    "    cx, cy, r = secdetect.find_ring(imcn)\n",
    "\n",
    "    imcr = no_crop_to_ring(imin, cx=cx, cy=cy, radius=r)\n",
    "    imeccr = no_crop_to_ring(imec, cx=cx, cy=cy, radius=r)\n",
    "\n",
    "    # Mask with Felzenszwalb segmentation\n",
    "    imfz = felzenszwalb(imcr, scale=750, sigma=1, min_size=500, multichannel=True)\n",
    "    imcb = clear_border(imfz, buffer_size=100)\n",
    "    mask = imcb > 0\n",
    "\n",
    "    masked_grey = np.where(mask, imeccr, 0)\n",
    "\n",
    "    # perform k-means clustering using SLIC\n",
    "    labels = slic(imcr, n_segments = 500, compactness = 20, enforce_connectivity = True)\n",
    "\n",
    "    labelled = np.where(masked_grey, labels, 0)\n",
    "    plt.imshow(labelled)\n",
    "\n",
    "    # Remove small areas\n",
    "    (unique, counts) = np.unique(labelled, return_counts = True)\n",
    "    to_remove = unique[counts < 500]\n",
    "\n",
    "    for value in to_remove:\n",
    "       labelled[labelled == value] = 0\n",
    "\n",
    "    plt.imsave(str(i)+'.png', labelled, cmap = 'gray')\n",
    "\n",
    "\n",
    "image_fp = '../wetransfer-3c006d/_REPOSITORY/png/images_resized1024/'"
   ],
   "metadata": {
    "collapsed": false,
    "pycharm": {
     "name": "#%%\n"
    }
   }
  },
  {
   "cell_type": "code",
   "execution_count": null,
   "outputs": [],
   "source": [
    "# loop through all images, performing felzenszwalb segmentation and watershedding, as used in secdetect\n",
    "\n",
    "for i in tqdm(range(40)):\n",
    "    felz_and_watershed(i, image_fp)"
   ],
   "metadata": {
    "collapsed": false,
    "pycharm": {
     "name": "#%%\n"
    }
   }
  },
  {
   "cell_type": "code",
   "execution_count": 20,
   "outputs": [
    {
     "data": {
      "text/plain": "  0%|          | 0/40 [00:00<?, ?it/s]",
      "application/vnd.jupyter.widget-view+json": {
       "version_major": 2,
       "version_minor": 0,
       "model_id": "97139c509e31436587588b84d3aa1f1d"
      }
     },
     "metadata": {},
     "output_type": "display_data"
    },
    {
     "name": "stderr",
     "output_type": "stream",
     "text": [
      "<ipython-input-19-df7dfd103a66>:19: FutureWarning: skimage.measure.label's indexing starts from 0. In future version it will start from 1. To disable this warning, explicitely set the `start_label` parameter to 1.\n",
      "  labels = slic(imcr, n_segments = 500, compactness = 20, enforce_connectivity = True)\n"
     ]
    },
    {
     "ename": "KeyboardInterrupt",
     "evalue": "",
     "output_type": "error",
     "traceback": [
      "\u001B[1;31m---------------------------------------------------------------------------\u001B[0m",
      "\u001B[1;31mKeyboardInterrupt\u001B[0m                         Traceback (most recent call last)",
      "\u001B[1;32m<ipython-input-20-91d156fd0dd8>\u001B[0m in \u001B[0;36m<module>\u001B[1;34m\u001B[0m\n\u001B[0;32m      2\u001B[0m \u001B[1;33m\u001B[0m\u001B[0m\n\u001B[0;32m      3\u001B[0m \u001B[1;32mfor\u001B[0m \u001B[0mi\u001B[0m \u001B[1;32min\u001B[0m \u001B[0mtqdm\u001B[0m\u001B[1;33m(\u001B[0m\u001B[0mrange\u001B[0m\u001B[1;33m(\u001B[0m\u001B[1;36m40\u001B[0m\u001B[1;33m)\u001B[0m\u001B[1;33m)\u001B[0m\u001B[1;33m:\u001B[0m\u001B[1;33m\u001B[0m\u001B[1;33m\u001B[0m\u001B[0m\n\u001B[1;32m----> 4\u001B[1;33m     \u001B[0mfelz_and_SLIC\u001B[0m\u001B[1;33m(\u001B[0m\u001B[0mi\u001B[0m\u001B[1;33m)\u001B[0m\u001B[1;33m\u001B[0m\u001B[1;33m\u001B[0m\u001B[0m\n\u001B[0m",
      "\u001B[1;32m<ipython-input-19-df7dfd103a66>\u001B[0m in \u001B[0;36mfelz_and_SLIC\u001B[1;34m(i)\u001B[0m\n\u001B[0;32m      9\u001B[0m \u001B[1;33m\u001B[0m\u001B[0m\n\u001B[0;32m     10\u001B[0m     \u001B[1;31m# Mask with Felzenszwalb segmentation\u001B[0m\u001B[1;33m\u001B[0m\u001B[1;33m\u001B[0m\u001B[1;33m\u001B[0m\u001B[0m\n\u001B[1;32m---> 11\u001B[1;33m     \u001B[0mimfz\u001B[0m \u001B[1;33m=\u001B[0m \u001B[0mfelzenszwalb\u001B[0m\u001B[1;33m(\u001B[0m\u001B[0mimcr\u001B[0m\u001B[1;33m,\u001B[0m \u001B[0mscale\u001B[0m\u001B[1;33m=\u001B[0m\u001B[1;36m750\u001B[0m\u001B[1;33m,\u001B[0m \u001B[0msigma\u001B[0m\u001B[1;33m=\u001B[0m\u001B[1;36m1\u001B[0m\u001B[1;33m,\u001B[0m \u001B[0mmin_size\u001B[0m\u001B[1;33m=\u001B[0m\u001B[1;36m500\u001B[0m\u001B[1;33m,\u001B[0m \u001B[0mmultichannel\u001B[0m\u001B[1;33m=\u001B[0m\u001B[1;32mTrue\u001B[0m\u001B[1;33m)\u001B[0m\u001B[1;33m\u001B[0m\u001B[1;33m\u001B[0m\u001B[0m\n\u001B[0m\u001B[0;32m     12\u001B[0m     \u001B[0mimcb\u001B[0m \u001B[1;33m=\u001B[0m \u001B[0mclear_border\u001B[0m\u001B[1;33m(\u001B[0m\u001B[0mimfz\u001B[0m\u001B[1;33m,\u001B[0m \u001B[0mbuffer_size\u001B[0m\u001B[1;33m=\u001B[0m\u001B[1;36m100\u001B[0m\u001B[1;33m)\u001B[0m\u001B[1;33m\u001B[0m\u001B[1;33m\u001B[0m\u001B[0m\n\u001B[0;32m     13\u001B[0m     \u001B[0mmask\u001B[0m \u001B[1;33m=\u001B[0m \u001B[0mimcb\u001B[0m \u001B[1;33m>\u001B[0m \u001B[1;36m0\u001B[0m\u001B[1;33m\u001B[0m\u001B[1;33m\u001B[0m\u001B[0m\n",
      "\u001B[1;32m~\\miniconda3\\envs\\secdetect_gpu\\lib\\site-packages\\skimage\\segmentation\\_felzenszwalb.py\u001B[0m in \u001B[0;36mfelzenszwalb\u001B[1;34m(image, scale, sigma, min_size, multichannel)\u001B[0m\n\u001B[0;32m     61\u001B[0m \u001B[1;33m\u001B[0m\u001B[0m\n\u001B[0;32m     62\u001B[0m     \u001B[0mimage\u001B[0m \u001B[1;33m=\u001B[0m \u001B[0mnp\u001B[0m\u001B[1;33m.\u001B[0m\u001B[0matleast_3d\u001B[0m\u001B[1;33m(\u001B[0m\u001B[0mimage\u001B[0m\u001B[1;33m)\u001B[0m\u001B[1;33m\u001B[0m\u001B[1;33m\u001B[0m\u001B[0m\n\u001B[1;32m---> 63\u001B[1;33m     return _felzenszwalb_cython(image, scale=scale, sigma=sigma,\n\u001B[0m\u001B[0;32m     64\u001B[0m                                 min_size=min_size)\n",
      "\u001B[1;32mskimage\\segmentation\\_felzenszwalb_cy.pyx\u001B[0m in \u001B[0;36mskimage.segmentation._felzenszwalb_cy._felzenszwalb_cython\u001B[1;34m()\u001B[0m\n",
      "\u001B[1;32m<__array_function__ internals>\u001B[0m in \u001B[0;36mzeros_like\u001B[1;34m(*args, **kwargs)\u001B[0m\n",
      "\u001B[1;31mKeyboardInterrupt\u001B[0m: "
     ]
    },
    {
     "data": {
      "text/plain": "<Figure size 432x288 with 1 Axes>",
      "image/png": "[encoded data removed]"
     },
     "metadata": {
      "needs_background": "light"
     },
     "output_type": "display_data"
    }
   ],
   "source": [
    "# loop through all images, performing felzenszwalb segmentation and k-means clustering, as used in secdetect\n",
    "\n",
    "for i in tqdm(range(40)):\n",
    "    felz_and_SLIC(i, image_fp)"
   ],
   "metadata": {
    "collapsed": false,
    "pycharm": {
     "name": "#%%\n"
    }
   }
  }
 ],
 "metadata": {
  "kernelspec": {
   "name": "pycharm-59a30b9d",
   "language": "python",
   "display_name": "PyCharm (seCNNdetect)"
  },
  "language_info": {
   "codemirror_mode": {
    "name": "ipython",
    "version": 3
   },
   "file_extension": ".py",
   "mimetype": "text/x-python",
   "name": "python",
   "nbconvert_exporter": "python",
   "pygments_lexer": "ipython3",
   "version": "3.8.8"
  }
 },
 "nbformat": 4,
 "nbformat_minor": 5
}