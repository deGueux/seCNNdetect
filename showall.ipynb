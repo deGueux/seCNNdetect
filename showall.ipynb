{
 "cells": [
  {
   "cell_type": "code",
   "execution_count": 4,
   "id": "738b1045-5564-484d-9629-b773fd1e38e7",
   "metadata": {},
   "outputs": [],
   "source": [
    "import matplotlib.pyplot as plt\n",
    "from ipywidgets import interact, fixed, IntSlider\n",
    "from skimage.io import imread\n",
    "import numpy as np\n",
    "from PIL import Image\n",
    "from resizeimage import resizeimage\n",
    "from tqdm.notebook import tqdm\n",
    "from skimage.color import label2rgb\n"
   ]
  },
  {
   "cell_type": "code",
   "execution_count": 5,
   "id": "f474936f-b50a-466f-b4c6-9fe19d533262",
   "metadata": {},
   "outputs": [],
   "source": [
    "def load_images(imagen0):\n",
    "    \"\"\"\n",
    "    load all different instance segmentations performed\n",
    "    :param imagen0: image number\n",
    "    :return: 8 different images, among which the image, ground truth, and 6 possible instance segmentations\n",
    "    \"\"\"\n",
    "    image = imread('../../wetransfer-3c006d/_REPOSITORY/png/images_resized1024/'+ str(imagen0)+ '.png')\n",
    "    \n",
    "    truth = plt.imread('../../wetransfer-3c006d/_REPOSITORY/png/masks/'+ str(imagen0)+ '.png')\n",
    "    crop = (2944,2944)\n",
    "    img = truth[:,:,0]\n",
    "    img= Image.fromarray(img)\n",
    "    img = resizeimage.resize_crop(img, crop)\n",
    "    img = np.array(img)*255\n",
    "    truth = label2rgb(img,bg_label = 0)[:,:,:]\n",
    "\n",
    "    watershedded = label2rgb(imread('../../Random Mess/Final/compare/Watershedded/'+ str(imagen0)+ '.png'), bg_label = 0)[:,:,0,:]\n",
    "\n",
    "    SLIC = label2rgb(imread('../../Random Mess/Final/compare/SLIC/'+ str(imagen0)+ '.png'), bg_label = 0)[:,:,0,:]\n",
    "    ilastik = label2rgb(imread('../../Random Mess/Final/compare/ilastik detection/'+ str(imagen0)+ '.png'), bg_label = 0)[:,:,0,:]\n",
    "\n",
    "    split = label2rgb(imread('../../Random Mess/Final/compare/split_combine/'+ str(imagen0)+ '.png'), bg_label = 0)[:,:,0,:]\n",
    "    border = label2rgb(imread('../../Random Mess/Final/compare/borderareaize/'+ str(imagen0)+ '.png'), bg_label = 0)[:,:,0,:]\n",
    "    felzen = label2rgb(imread('../../Random Mess/Final/compare/felzenzsedge/'+ str(imagen0)+ '.png'), bg_label = 0)[:,:,0,:]\n",
    "    \n",
    "    \n",
    "    return image, truth, watershedded, SLIC, ilastik, split, border, felzen\n",
    "\n",
    "    \n",
    "def plottenmaar(imagen0)  :\n",
    "    \"\"\"\n",
    "    does what is says on the box: it plots the different instance segmentations\n",
    "    :param imagen0:\n",
    "    :return: an image file with all instance segmentations\n",
    "    \"\"\"\n",
    "    plt.cla()\n",
    "    plt.close()\n",
    "    titles = np.array(['input', 'truth', 'watershed', 'SLIC', 'ilastik', 'split', 'border', 'felzen'])\n",
    "    images = load_images(imagen0)\n",
    "    fig, ax = plt.subplots(2,4, figsize=(15, 15*2/4), constrained_layout=True)\n",
    "    \n",
    "    for i in range(2):\n",
    "        for j in range(4):\n",
    "            ax[i,j].axis('off')\n",
    "            ax[i,j].imshow(images[i*4+j])\n",
    "            ax[i,j].set_title(titles[i*4+j])\n",
    "    return plt"
   ]
  },
  {
   "cell_type": "code",
   "execution_count": 6,
   "id": "9e765296-910f-4cf3-b9c5-b832517b00bc",
   "metadata": {},
   "outputs": [
    {
     "data": {
      "text/plain": "interactive(children=(IntSlider(value=19, description='imagen0', max=39), Output()), _dom_classes=('widget-int…",
      "application/vnd.jupyter.widget-view+json": {
       "version_major": 2,
       "version_minor": 0,
       "model_id": "988ce1d6f1564c56b1a4aef6d337f58e"
      }
     },
     "metadata": {},
     "output_type": "display_data"
    },
    {
     "data": {
      "text/plain": "<function __main__.plottenmaar(imagen0)>"
     },
     "execution_count": 6,
     "metadata": {},
     "output_type": "execute_result"
    }
   ],
   "source": [
    "interact(plottenmaar, imagen0 = (0,39), continuous_update=False)    "
   ]
  },
  {
   "cell_type": "code",
   "execution_count": 3,
   "id": "15e7736f-ffe2-418e-8e63-a76d47beef9b",
   "metadata": {
    "pycharm": {
     "name": "#%%\n"
    }
   },
   "outputs": [
    {
     "data": {
      "application/vnd.jupyter.widget-view+json": {
       "model_id": "3d43fcf0b7814ba2964ff233b93946d4",
       "version_major": 2,
       "version_minor": 0
      },
      "text/plain": [
       "  0%|          | 0/2 [00:00<?, ?it/s]"
      ]
     },
     "metadata": {},
     "output_type": "display_data"
    }
   ],
   "source": [
    "# loop though all images and save the images\n",
    "for i in tqdm(range(40)):\n",
    "    image = plottenmaar(i)\n",
    "    image.savefig(str(i)+'.png', \n",
    "                  bbox_inches = 'tight',\n",
    "                  pad_inches = 0,\n",
    "                  dpi = 300)\n",
    "    image.cla()\n",
    "    plt.cla()\n",
    "    image.close()\n",
    "    plt.close()"
   ]
  }
 ],
 "metadata": {
  "kernelspec": {
   "name": "pycharm-59a30b9d",
   "language": "python",
   "display_name": "PyCharm (seCNNdetect)"
  },
  "language_info": {
   "codemirror_mode": {
    "name": "ipython",
    "version": 3
   },
   "file_extension": ".py",
   "mimetype": "text/x-python",
   "name": "python",
   "nbconvert_exporter": "python",
   "pygments_lexer": "ipython3",
   "version": "3.8.8"
  }
 },
 "nbformat": 4,
 "nbformat_minor": 5
}